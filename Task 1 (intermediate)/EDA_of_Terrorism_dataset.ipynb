{
  "nbformat": 4,
  "nbformat_minor": 0,
  "metadata": {
    "colab": {
      "name": "EDA_of_Terrorism_dataset.ipynb",
      "provenance": []
    },
    "kernelspec": {
      "name": "python3",
      "display_name": "Python 3"
    },
    "language_info": {
      "name": "python"
    }
  },
  "cells": [
    {
      "cell_type": "markdown",
      "source": [
        "  # Task 4 \n",
        "As a security/defense analyst, we need to find out the hot zone of terrorism.\n",
        "\n",
        "We can choose any of the following tools. For this task I will be using python  \n",
        "\n",
        "(Python/R/Tableau/PowerBI/Excel/SAP/SAS)"
      ],
      "metadata": {
        "id": "Ehu53ibk0w0B"
      }
    },
    {
      "cell_type": "markdown",
      "source": [
        "\n",
        "\n",
        "\n",
        "By - Siddharth Agarwal\n",
        "\n",
        "\n"
      ],
      "metadata": {
        "id": "4aABLFWO00lV"
      }
    },
    {
      "cell_type": "code",
      "source": [
        "import matplotlib.pyplot as plt\n",
        "import seaborn as sns\n",
        "import numpy as np\n",
        "import pandas as pd"
      ],
      "metadata": {
        "id": "eZsYsdpQ2WkG"
      },
      "execution_count": 1,
      "outputs": []
    },
    {
      "cell_type": "code",
      "source": [
        "data = pd.read_csv('globalterrorismdb_0718dist.csv', encoding='latin1')\n",
        "data.shape"
      ],
      "metadata": {
        "colab": {
          "base_uri": "https://localhost:8080/"
        },
        "id": "eR928QNc2v-z",
        "outputId": "a5b11a10-ff08-4b0f-fcb2-d0034a7fa039"
      },
      "execution_count": 4,
      "outputs": [
        {
          "output_type": "stream",
          "name": "stderr",
          "text": [
            "/usr/local/lib/python3.7/dist-packages/IPython/core/interactiveshell.py:2882: DtypeWarning: Columns (4,31,33,60,61,62,76,79,94,96,121) have mixed types.Specify dtype option on import or set low_memory=False.\n",
            "  exec(code_obj, self.user_global_ns, self.user_ns)\n"
          ]
        },
        {
          "output_type": "execute_result",
          "data": {
            "text/plain": [
              "(25487, 135)"
            ]
          },
          "metadata": {},
          "execution_count": 4
        }
      ]
    },
    {
      "cell_type": "code",
      "source": [
        "import warnings\n",
        "warnings.filterwarnings(\"ignore\")"
      ],
      "metadata": {
        "id": "5DGuvvyP3Lbj"
      },
      "execution_count": 5,
      "outputs": []
    },
    {
      "cell_type": "code",
      "source": [
        "data = pd.read_csv('globalterrorismdb_0718dist.csv', encoding='latin1')\n",
        "data.shape"
      ],
      "metadata": {
        "colab": {
          "base_uri": "https://localhost:8080/"
        },
        "id": "qlsAqnxe3pn1",
        "outputId": "82e84a30-07cd-49df-9c36-05b1d07922d5"
      },
      "execution_count": 6,
      "outputs": [
        {
          "output_type": "execute_result",
          "data": {
            "text/plain": [
              "(29975, 135)"
            ]
          },
          "metadata": {},
          "execution_count": 6
        }
      ]
    },
    {
      "cell_type": "code",
      "source": [
        "data.describe().transpose()"
      ],
      "metadata": {
        "colab": {
          "base_uri": "https://localhost:8080/",
          "height": 423
        },
        "id": "iAtkJc8q3q2Q",
        "outputId": "848fbdd2-85b5-4bb6-89a6-5f3bf1007c0c"
      },
      "execution_count": 10,
      "outputs": [
        {
          "output_type": "execute_result",
          "data": {
            "text/plain": [
              "             count          mean           std     min           25%  \\\n",
              "eventid    29975.0  1.980791e+11  1.214180e+09   198.0  1.979013e+11   \n",
              "iyear      29974.0  1.980792e+03  4.065549e+00  1970.0  1.979000e+03   \n",
              "imonth     29974.0  6.350404e+00  3.398355e+00     0.0  3.000000e+00   \n",
              "iday       29974.0  1.517595e+01  8.881986e+00     0.0  8.000000e+00   \n",
              "extended   29974.0  1.661440e-02  1.278237e-01     0.0  0.000000e+00   \n",
              "...            ...           ...           ...     ...           ...   \n",
              "nreleased    644.0  1.052019e+01  3.593122e+01   -99.0  1.000000e+00   \n",
              "INT_LOG    29974.0 -3.280943e+00  4.422357e+00    -9.0 -9.000000e+00   \n",
              "INT_IDEO   29974.0 -3.235337e+00  4.477072e+00    -9.0 -9.000000e+00   \n",
              "INT_MISC   29974.0  1.812905e-01  7.640818e-01    -9.0  0.000000e+00   \n",
              "INT_ANY    29974.0 -2.434877e+00  4.371263e+00    -9.0 -9.000000e+00   \n",
              "\n",
              "                    50%           75%           max  \n",
              "eventid    1.981121e+11  1.984071e+11  1.987012e+11  \n",
              "iyear      1.981000e+03  1.984000e+03  1.987000e+03  \n",
              "imonth     6.000000e+00  9.000000e+00  1.200000e+01  \n",
              "iday       1.500000e+01  2.300000e+01  3.100000e+01  \n",
              "extended   0.000000e+00  0.000000e+00  1.000000e+00  \n",
              "...                 ...           ...           ...  \n",
              "nreleased  1.000000e+00  3.000000e+00  3.900000e+02  \n",
              "INT_LOG    0.000000e+00  0.000000e+00  1.000000e+00  \n",
              "INT_IDEO   0.000000e+00  0.000000e+00  1.000000e+00  \n",
              "INT_MISC   0.000000e+00  0.000000e+00  1.000000e+00  \n",
              "INT_ANY    0.000000e+00  1.000000e+00  1.000000e+00  \n",
              "\n",
              "[78 rows x 8 columns]"
            ],
            "text/html": [
              "\n",
              "  <div id=\"df-d33fb980-2243-49ec-893c-0b9d4c0a3c8c\">\n",
              "    <div class=\"colab-df-container\">\n",
              "      <div>\n",
              "<style scoped>\n",
              "    .dataframe tbody tr th:only-of-type {\n",
              "        vertical-align: middle;\n",
              "    }\n",
              "\n",
              "    .dataframe tbody tr th {\n",
              "        vertical-align: top;\n",
              "    }\n",
              "\n",
              "    .dataframe thead th {\n",
              "        text-align: right;\n",
              "    }\n",
              "</style>\n",
              "<table border=\"1\" class=\"dataframe\">\n",
              "  <thead>\n",
              "    <tr style=\"text-align: right;\">\n",
              "      <th></th>\n",
              "      <th>count</th>\n",
              "      <th>mean</th>\n",
              "      <th>std</th>\n",
              "      <th>min</th>\n",
              "      <th>25%</th>\n",
              "      <th>50%</th>\n",
              "      <th>75%</th>\n",
              "      <th>max</th>\n",
              "    </tr>\n",
              "  </thead>\n",
              "  <tbody>\n",
              "    <tr>\n",
              "      <th>eventid</th>\n",
              "      <td>29975.0</td>\n",
              "      <td>1.980791e+11</td>\n",
              "      <td>1.214180e+09</td>\n",
              "      <td>198.0</td>\n",
              "      <td>1.979013e+11</td>\n",
              "      <td>1.981121e+11</td>\n",
              "      <td>1.984071e+11</td>\n",
              "      <td>1.987012e+11</td>\n",
              "    </tr>\n",
              "    <tr>\n",
              "      <th>iyear</th>\n",
              "      <td>29974.0</td>\n",
              "      <td>1.980792e+03</td>\n",
              "      <td>4.065549e+00</td>\n",
              "      <td>1970.0</td>\n",
              "      <td>1.979000e+03</td>\n",
              "      <td>1.981000e+03</td>\n",
              "      <td>1.984000e+03</td>\n",
              "      <td>1.987000e+03</td>\n",
              "    </tr>\n",
              "    <tr>\n",
              "      <th>imonth</th>\n",
              "      <td>29974.0</td>\n",
              "      <td>6.350404e+00</td>\n",
              "      <td>3.398355e+00</td>\n",
              "      <td>0.0</td>\n",
              "      <td>3.000000e+00</td>\n",
              "      <td>6.000000e+00</td>\n",
              "      <td>9.000000e+00</td>\n",
              "      <td>1.200000e+01</td>\n",
              "    </tr>\n",
              "    <tr>\n",
              "      <th>iday</th>\n",
              "      <td>29974.0</td>\n",
              "      <td>1.517595e+01</td>\n",
              "      <td>8.881986e+00</td>\n",
              "      <td>0.0</td>\n",
              "      <td>8.000000e+00</td>\n",
              "      <td>1.500000e+01</td>\n",
              "      <td>2.300000e+01</td>\n",
              "      <td>3.100000e+01</td>\n",
              "    </tr>\n",
              "    <tr>\n",
              "      <th>extended</th>\n",
              "      <td>29974.0</td>\n",
              "      <td>1.661440e-02</td>\n",
              "      <td>1.278237e-01</td>\n",
              "      <td>0.0</td>\n",
              "      <td>0.000000e+00</td>\n",
              "      <td>0.000000e+00</td>\n",
              "      <td>0.000000e+00</td>\n",
              "      <td>1.000000e+00</td>\n",
              "    </tr>\n",
              "    <tr>\n",
              "      <th>...</th>\n",
              "      <td>...</td>\n",
              "      <td>...</td>\n",
              "      <td>...</td>\n",
              "      <td>...</td>\n",
              "      <td>...</td>\n",
              "      <td>...</td>\n",
              "      <td>...</td>\n",
              "      <td>...</td>\n",
              "    </tr>\n",
              "    <tr>\n",
              "      <th>nreleased</th>\n",
              "      <td>644.0</td>\n",
              "      <td>1.052019e+01</td>\n",
              "      <td>3.593122e+01</td>\n",
              "      <td>-99.0</td>\n",
              "      <td>1.000000e+00</td>\n",
              "      <td>1.000000e+00</td>\n",
              "      <td>3.000000e+00</td>\n",
              "      <td>3.900000e+02</td>\n",
              "    </tr>\n",
              "    <tr>\n",
              "      <th>INT_LOG</th>\n",
              "      <td>29974.0</td>\n",
              "      <td>-3.280943e+00</td>\n",
              "      <td>4.422357e+00</td>\n",
              "      <td>-9.0</td>\n",
              "      <td>-9.000000e+00</td>\n",
              "      <td>0.000000e+00</td>\n",
              "      <td>0.000000e+00</td>\n",
              "      <td>1.000000e+00</td>\n",
              "    </tr>\n",
              "    <tr>\n",
              "      <th>INT_IDEO</th>\n",
              "      <td>29974.0</td>\n",
              "      <td>-3.235337e+00</td>\n",
              "      <td>4.477072e+00</td>\n",
              "      <td>-9.0</td>\n",
              "      <td>-9.000000e+00</td>\n",
              "      <td>0.000000e+00</td>\n",
              "      <td>0.000000e+00</td>\n",
              "      <td>1.000000e+00</td>\n",
              "    </tr>\n",
              "    <tr>\n",
              "      <th>INT_MISC</th>\n",
              "      <td>29974.0</td>\n",
              "      <td>1.812905e-01</td>\n",
              "      <td>7.640818e-01</td>\n",
              "      <td>-9.0</td>\n",
              "      <td>0.000000e+00</td>\n",
              "      <td>0.000000e+00</td>\n",
              "      <td>0.000000e+00</td>\n",
              "      <td>1.000000e+00</td>\n",
              "    </tr>\n",
              "    <tr>\n",
              "      <th>INT_ANY</th>\n",
              "      <td>29974.0</td>\n",
              "      <td>-2.434877e+00</td>\n",
              "      <td>4.371263e+00</td>\n",
              "      <td>-9.0</td>\n",
              "      <td>-9.000000e+00</td>\n",
              "      <td>0.000000e+00</td>\n",
              "      <td>1.000000e+00</td>\n",
              "      <td>1.000000e+00</td>\n",
              "    </tr>\n",
              "  </tbody>\n",
              "</table>\n",
              "<p>78 rows × 8 columns</p>\n",
              "</div>\n",
              "      <button class=\"colab-df-convert\" onclick=\"convertToInteractive('df-d33fb980-2243-49ec-893c-0b9d4c0a3c8c')\"\n",
              "              title=\"Convert this dataframe to an interactive table.\"\n",
              "              style=\"display:none;\">\n",
              "        \n",
              "  <svg xmlns=\"http://www.w3.org/2000/svg\" height=\"24px\"viewBox=\"0 0 24 24\"\n",
              "       width=\"24px\">\n",
              "    <path d=\"M0 0h24v24H0V0z\" fill=\"none\"/>\n",
              "    <path d=\"M18.56 5.44l.94 2.06.94-2.06 2.06-.94-2.06-.94-.94-2.06-.94 2.06-2.06.94zm-11 1L8.5 8.5l.94-2.06 2.06-.94-2.06-.94L8.5 2.5l-.94 2.06-2.06.94zm10 10l.94 2.06.94-2.06 2.06-.94-2.06-.94-.94-2.06-.94 2.06-2.06.94z\"/><path d=\"M17.41 7.96l-1.37-1.37c-.4-.4-.92-.59-1.43-.59-.52 0-1.04.2-1.43.59L10.3 9.45l-7.72 7.72c-.78.78-.78 2.05 0 2.83L4 21.41c.39.39.9.59 1.41.59.51 0 1.02-.2 1.41-.59l7.78-7.78 2.81-2.81c.8-.78.8-2.07 0-2.86zM5.41 20L4 18.59l7.72-7.72 1.47 1.35L5.41 20z\"/>\n",
              "  </svg>\n",
              "      </button>\n",
              "      \n",
              "  <style>\n",
              "    .colab-df-container {\n",
              "      display:flex;\n",
              "      flex-wrap:wrap;\n",
              "      gap: 12px;\n",
              "    }\n",
              "\n",
              "    .colab-df-convert {\n",
              "      background-color: #E8F0FE;\n",
              "      border: none;\n",
              "      border-radius: 50%;\n",
              "      cursor: pointer;\n",
              "      display: none;\n",
              "      fill: #1967D2;\n",
              "      height: 32px;\n",
              "      padding: 0 0 0 0;\n",
              "      width: 32px;\n",
              "    }\n",
              "\n",
              "    .colab-df-convert:hover {\n",
              "      background-color: #E2EBFA;\n",
              "      box-shadow: 0px 1px 2px rgba(60, 64, 67, 0.3), 0px 1px 3px 1px rgba(60, 64, 67, 0.15);\n",
              "      fill: #174EA6;\n",
              "    }\n",
              "\n",
              "    [theme=dark] .colab-df-convert {\n",
              "      background-color: #3B4455;\n",
              "      fill: #D2E3FC;\n",
              "    }\n",
              "\n",
              "    [theme=dark] .colab-df-convert:hover {\n",
              "      background-color: #434B5C;\n",
              "      box-shadow: 0px 1px 3px 1px rgba(0, 0, 0, 0.15);\n",
              "      filter: drop-shadow(0px 1px 2px rgba(0, 0, 0, 0.3));\n",
              "      fill: #FFFFFF;\n",
              "    }\n",
              "  </style>\n",
              "\n",
              "      <script>\n",
              "        const buttonEl =\n",
              "          document.querySelector('#df-d33fb980-2243-49ec-893c-0b9d4c0a3c8c button.colab-df-convert');\n",
              "        buttonEl.style.display =\n",
              "          google.colab.kernel.accessAllowed ? 'block' : 'none';\n",
              "\n",
              "        async function convertToInteractive(key) {\n",
              "          const element = document.querySelector('#df-d33fb980-2243-49ec-893c-0b9d4c0a3c8c');\n",
              "          const dataTable =\n",
              "            await google.colab.kernel.invokeFunction('convertToInteractive',\n",
              "                                                     [key], {});\n",
              "          if (!dataTable) return;\n",
              "\n",
              "          const docLinkHtml = 'Like what you see? Visit the ' +\n",
              "            '<a target=\"_blank\" href=https://colab.research.google.com/notebooks/data_table.ipynb>data table notebook</a>'\n",
              "            + ' to learn more about interactive tables.';\n",
              "          element.innerHTML = '';\n",
              "          dataTable['output_type'] = 'display_data';\n",
              "          await google.colab.output.renderOutput(dataTable, element);\n",
              "          const docLink = document.createElement('div');\n",
              "          docLink.innerHTML = docLinkHtml;\n",
              "          element.appendChild(docLink);\n",
              "        }\n",
              "      </script>\n",
              "    </div>\n",
              "  </div>\n",
              "  "
            ]
          },
          "metadata": {},
          "execution_count": 10
        }
      ]
    },
    {
      "cell_type": "code",
      "source": [
        "data.head()"
      ],
      "metadata": {
        "colab": {
          "base_uri": "https://localhost:8080/",
          "height": 316
        },
        "id": "9rz2lXUp3tjw",
        "outputId": "04b15699-0060-45bd-daa4-50c5b55d8ca8"
      },
      "execution_count": 9,
      "outputs": [
        {
          "output_type": "execute_result",
          "data": {
            "text/plain": [
              "        eventid   iyear  imonth  iday approxdate  extended resolution  \\\n",
              "0  197000000001  1970.0     7.0   2.0        NaN       0.0        NaN   \n",
              "1  197000000002  1970.0     0.0   0.0        NaN       0.0        NaN   \n",
              "2  197001000001  1970.0     1.0   0.0        NaN       0.0        NaN   \n",
              "3  197001000002  1970.0     1.0   0.0        NaN       0.0        NaN   \n",
              "4  197001000003  1970.0     1.0   0.0        NaN       0.0        NaN   \n",
              "\n",
              "   country         country_txt  region  ... addnotes scite1 scite2  scite3  \\\n",
              "0     58.0  Dominican Republic     2.0  ...      NaN    NaN    NaN     NaN   \n",
              "1    130.0              Mexico     1.0  ...      NaN    NaN    NaN     NaN   \n",
              "2    160.0         Philippines     5.0  ...      NaN    NaN    NaN     NaN   \n",
              "3     78.0              Greece     8.0  ...      NaN    NaN    NaN     NaN   \n",
              "4    101.0               Japan     4.0  ...      NaN    NaN    NaN     NaN   \n",
              "\n",
              "   dbsource  INT_LOG  INT_IDEO INT_MISC INT_ANY  related  \n",
              "0      PGIS      0.0       0.0      0.0     0.0      NaN  \n",
              "1      PGIS      0.0       1.0      1.0     1.0      NaN  \n",
              "2      PGIS     -9.0      -9.0      1.0     1.0      NaN  \n",
              "3      PGIS     -9.0      -9.0      1.0     1.0      NaN  \n",
              "4      PGIS     -9.0      -9.0      1.0     1.0      NaN  \n",
              "\n",
              "[5 rows x 135 columns]"
            ],
            "text/html": [
              "\n",
              "  <div id=\"df-4115b4e0-28ad-4c08-bbd1-b74dfdbd2d82\">\n",
              "    <div class=\"colab-df-container\">\n",
              "      <div>\n",
              "<style scoped>\n",
              "    .dataframe tbody tr th:only-of-type {\n",
              "        vertical-align: middle;\n",
              "    }\n",
              "\n",
              "    .dataframe tbody tr th {\n",
              "        vertical-align: top;\n",
              "    }\n",
              "\n",
              "    .dataframe thead th {\n",
              "        text-align: right;\n",
              "    }\n",
              "</style>\n",
              "<table border=\"1\" class=\"dataframe\">\n",
              "  <thead>\n",
              "    <tr style=\"text-align: right;\">\n",
              "      <th></th>\n",
              "      <th>eventid</th>\n",
              "      <th>iyear</th>\n",
              "      <th>imonth</th>\n",
              "      <th>iday</th>\n",
              "      <th>approxdate</th>\n",
              "      <th>extended</th>\n",
              "      <th>resolution</th>\n",
              "      <th>country</th>\n",
              "      <th>country_txt</th>\n",
              "      <th>region</th>\n",
              "      <th>...</th>\n",
              "      <th>addnotes</th>\n",
              "      <th>scite1</th>\n",
              "      <th>scite2</th>\n",
              "      <th>scite3</th>\n",
              "      <th>dbsource</th>\n",
              "      <th>INT_LOG</th>\n",
              "      <th>INT_IDEO</th>\n",
              "      <th>INT_MISC</th>\n",
              "      <th>INT_ANY</th>\n",
              "      <th>related</th>\n",
              "    </tr>\n",
              "  </thead>\n",
              "  <tbody>\n",
              "    <tr>\n",
              "      <th>0</th>\n",
              "      <td>197000000001</td>\n",
              "      <td>1970.0</td>\n",
              "      <td>7.0</td>\n",
              "      <td>2.0</td>\n",
              "      <td>NaN</td>\n",
              "      <td>0.0</td>\n",
              "      <td>NaN</td>\n",
              "      <td>58.0</td>\n",
              "      <td>Dominican Republic</td>\n",
              "      <td>2.0</td>\n",
              "      <td>...</td>\n",
              "      <td>NaN</td>\n",
              "      <td>NaN</td>\n",
              "      <td>NaN</td>\n",
              "      <td>NaN</td>\n",
              "      <td>PGIS</td>\n",
              "      <td>0.0</td>\n",
              "      <td>0.0</td>\n",
              "      <td>0.0</td>\n",
              "      <td>0.0</td>\n",
              "      <td>NaN</td>\n",
              "    </tr>\n",
              "    <tr>\n",
              "      <th>1</th>\n",
              "      <td>197000000002</td>\n",
              "      <td>1970.0</td>\n",
              "      <td>0.0</td>\n",
              "      <td>0.0</td>\n",
              "      <td>NaN</td>\n",
              "      <td>0.0</td>\n",
              "      <td>NaN</td>\n",
              "      <td>130.0</td>\n",
              "      <td>Mexico</td>\n",
              "      <td>1.0</td>\n",
              "      <td>...</td>\n",
              "      <td>NaN</td>\n",
              "      <td>NaN</td>\n",
              "      <td>NaN</td>\n",
              "      <td>NaN</td>\n",
              "      <td>PGIS</td>\n",
              "      <td>0.0</td>\n",
              "      <td>1.0</td>\n",
              "      <td>1.0</td>\n",
              "      <td>1.0</td>\n",
              "      <td>NaN</td>\n",
              "    </tr>\n",
              "    <tr>\n",
              "      <th>2</th>\n",
              "      <td>197001000001</td>\n",
              "      <td>1970.0</td>\n",
              "      <td>1.0</td>\n",
              "      <td>0.0</td>\n",
              "      <td>NaN</td>\n",
              "      <td>0.0</td>\n",
              "      <td>NaN</td>\n",
              "      <td>160.0</td>\n",
              "      <td>Philippines</td>\n",
              "      <td>5.0</td>\n",
              "      <td>...</td>\n",
              "      <td>NaN</td>\n",
              "      <td>NaN</td>\n",
              "      <td>NaN</td>\n",
              "      <td>NaN</td>\n",
              "      <td>PGIS</td>\n",
              "      <td>-9.0</td>\n",
              "      <td>-9.0</td>\n",
              "      <td>1.0</td>\n",
              "      <td>1.0</td>\n",
              "      <td>NaN</td>\n",
              "    </tr>\n",
              "    <tr>\n",
              "      <th>3</th>\n",
              "      <td>197001000002</td>\n",
              "      <td>1970.0</td>\n",
              "      <td>1.0</td>\n",
              "      <td>0.0</td>\n",
              "      <td>NaN</td>\n",
              "      <td>0.0</td>\n",
              "      <td>NaN</td>\n",
              "      <td>78.0</td>\n",
              "      <td>Greece</td>\n",
              "      <td>8.0</td>\n",
              "      <td>...</td>\n",
              "      <td>NaN</td>\n",
              "      <td>NaN</td>\n",
              "      <td>NaN</td>\n",
              "      <td>NaN</td>\n",
              "      <td>PGIS</td>\n",
              "      <td>-9.0</td>\n",
              "      <td>-9.0</td>\n",
              "      <td>1.0</td>\n",
              "      <td>1.0</td>\n",
              "      <td>NaN</td>\n",
              "    </tr>\n",
              "    <tr>\n",
              "      <th>4</th>\n",
              "      <td>197001000003</td>\n",
              "      <td>1970.0</td>\n",
              "      <td>1.0</td>\n",
              "      <td>0.0</td>\n",
              "      <td>NaN</td>\n",
              "      <td>0.0</td>\n",
              "      <td>NaN</td>\n",
              "      <td>101.0</td>\n",
              "      <td>Japan</td>\n",
              "      <td>4.0</td>\n",
              "      <td>...</td>\n",
              "      <td>NaN</td>\n",
              "      <td>NaN</td>\n",
              "      <td>NaN</td>\n",
              "      <td>NaN</td>\n",
              "      <td>PGIS</td>\n",
              "      <td>-9.0</td>\n",
              "      <td>-9.0</td>\n",
              "      <td>1.0</td>\n",
              "      <td>1.0</td>\n",
              "      <td>NaN</td>\n",
              "    </tr>\n",
              "  </tbody>\n",
              "</table>\n",
              "<p>5 rows × 135 columns</p>\n",
              "</div>\n",
              "      <button class=\"colab-df-convert\" onclick=\"convertToInteractive('df-4115b4e0-28ad-4c08-bbd1-b74dfdbd2d82')\"\n",
              "              title=\"Convert this dataframe to an interactive table.\"\n",
              "              style=\"display:none;\">\n",
              "        \n",
              "  <svg xmlns=\"http://www.w3.org/2000/svg\" height=\"24px\"viewBox=\"0 0 24 24\"\n",
              "       width=\"24px\">\n",
              "    <path d=\"M0 0h24v24H0V0z\" fill=\"none\"/>\n",
              "    <path d=\"M18.56 5.44l.94 2.06.94-2.06 2.06-.94-2.06-.94-.94-2.06-.94 2.06-2.06.94zm-11 1L8.5 8.5l.94-2.06 2.06-.94-2.06-.94L8.5 2.5l-.94 2.06-2.06.94zm10 10l.94 2.06.94-2.06 2.06-.94-2.06-.94-.94-2.06-.94 2.06-2.06.94z\"/><path d=\"M17.41 7.96l-1.37-1.37c-.4-.4-.92-.59-1.43-.59-.52 0-1.04.2-1.43.59L10.3 9.45l-7.72 7.72c-.78.78-.78 2.05 0 2.83L4 21.41c.39.39.9.59 1.41.59.51 0 1.02-.2 1.41-.59l7.78-7.78 2.81-2.81c.8-.78.8-2.07 0-2.86zM5.41 20L4 18.59l7.72-7.72 1.47 1.35L5.41 20z\"/>\n",
              "  </svg>\n",
              "      </button>\n",
              "      \n",
              "  <style>\n",
              "    .colab-df-container {\n",
              "      display:flex;\n",
              "      flex-wrap:wrap;\n",
              "      gap: 12px;\n",
              "    }\n",
              "\n",
              "    .colab-df-convert {\n",
              "      background-color: #E8F0FE;\n",
              "      border: none;\n",
              "      border-radius: 50%;\n",
              "      cursor: pointer;\n",
              "      display: none;\n",
              "      fill: #1967D2;\n",
              "      height: 32px;\n",
              "      padding: 0 0 0 0;\n",
              "      width: 32px;\n",
              "    }\n",
              "\n",
              "    .colab-df-convert:hover {\n",
              "      background-color: #E2EBFA;\n",
              "      box-shadow: 0px 1px 2px rgba(60, 64, 67, 0.3), 0px 1px 3px 1px rgba(60, 64, 67, 0.15);\n",
              "      fill: #174EA6;\n",
              "    }\n",
              "\n",
              "    [theme=dark] .colab-df-convert {\n",
              "      background-color: #3B4455;\n",
              "      fill: #D2E3FC;\n",
              "    }\n",
              "\n",
              "    [theme=dark] .colab-df-convert:hover {\n",
              "      background-color: #434B5C;\n",
              "      box-shadow: 0px 1px 3px 1px rgba(0, 0, 0, 0.15);\n",
              "      filter: drop-shadow(0px 1px 2px rgba(0, 0, 0, 0.3));\n",
              "      fill: #FFFFFF;\n",
              "    }\n",
              "  </style>\n",
              "\n",
              "      <script>\n",
              "        const buttonEl =\n",
              "          document.querySelector('#df-4115b4e0-28ad-4c08-bbd1-b74dfdbd2d82 button.colab-df-convert');\n",
              "        buttonEl.style.display =\n",
              "          google.colab.kernel.accessAllowed ? 'block' : 'none';\n",
              "\n",
              "        async function convertToInteractive(key) {\n",
              "          const element = document.querySelector('#df-4115b4e0-28ad-4c08-bbd1-b74dfdbd2d82');\n",
              "          const dataTable =\n",
              "            await google.colab.kernel.invokeFunction('convertToInteractive',\n",
              "                                                     [key], {});\n",
              "          if (!dataTable) return;\n",
              "\n",
              "          const docLinkHtml = 'Like what you see? Visit the ' +\n",
              "            '<a target=\"_blank\" href=https://colab.research.google.com/notebooks/data_table.ipynb>data table notebook</a>'\n",
              "            + ' to learn more about interactive tables.';\n",
              "          element.innerHTML = '';\n",
              "          dataTable['output_type'] = 'display_data';\n",
              "          await google.colab.output.renderOutput(dataTable, element);\n",
              "          const docLink = document.createElement('div');\n",
              "          docLink.innerHTML = docLinkHtml;\n",
              "          element.appendChild(docLink);\n",
              "        }\n",
              "      </script>\n",
              "    </div>\n",
              "  </div>\n",
              "  "
            ]
          },
          "metadata": {},
          "execution_count": 9
        }
      ]
    },
    {
      "cell_type": "code",
      "source": [
        "cols = [i for i in data.columns]\n",
        "cols"
      ],
      "metadata": {
        "colab": {
          "base_uri": "https://localhost:8080/"
        },
        "id": "kzcNGnWB4S5G",
        "outputId": "9a2d31e8-c063-488f-af75-2039f5fba9f9"
      },
      "execution_count": 12,
      "outputs": [
        {
          "output_type": "execute_result",
          "data": {
            "text/plain": [
              "['eventid',\n",
              " 'iyear',\n",
              " 'imonth',\n",
              " 'iday',\n",
              " 'approxdate',\n",
              " 'extended',\n",
              " 'resolution',\n",
              " 'country',\n",
              " 'country_txt',\n",
              " 'region',\n",
              " 'region_txt',\n",
              " 'provstate',\n",
              " 'city',\n",
              " 'latitude',\n",
              " 'longitude',\n",
              " 'specificity',\n",
              " 'vicinity',\n",
              " 'location',\n",
              " 'summary',\n",
              " 'crit1',\n",
              " 'crit2',\n",
              " 'crit3',\n",
              " 'doubtterr',\n",
              " 'alternative',\n",
              " 'alternative_txt',\n",
              " 'multiple',\n",
              " 'success',\n",
              " 'suicide',\n",
              " 'attacktype1',\n",
              " 'attacktype1_txt',\n",
              " 'attacktype2',\n",
              " 'attacktype2_txt',\n",
              " 'attacktype3',\n",
              " 'attacktype3_txt',\n",
              " 'targtype1',\n",
              " 'targtype1_txt',\n",
              " 'targsubtype1',\n",
              " 'targsubtype1_txt',\n",
              " 'corp1',\n",
              " 'target1',\n",
              " 'natlty1',\n",
              " 'natlty1_txt',\n",
              " 'targtype2',\n",
              " 'targtype2_txt',\n",
              " 'targsubtype2',\n",
              " 'targsubtype2_txt',\n",
              " 'corp2',\n",
              " 'target2',\n",
              " 'natlty2',\n",
              " 'natlty2_txt',\n",
              " 'targtype3',\n",
              " 'targtype3_txt',\n",
              " 'targsubtype3',\n",
              " 'targsubtype3_txt',\n",
              " 'corp3',\n",
              " 'target3',\n",
              " 'natlty3',\n",
              " 'natlty3_txt',\n",
              " 'gname',\n",
              " 'gsubname',\n",
              " 'gname2',\n",
              " 'gsubname2',\n",
              " 'gname3',\n",
              " 'gsubname3',\n",
              " 'motive',\n",
              " 'guncertain1',\n",
              " 'guncertain2',\n",
              " 'guncertain3',\n",
              " 'individual',\n",
              " 'nperps',\n",
              " 'nperpcap',\n",
              " 'claimed',\n",
              " 'claimmode',\n",
              " 'claimmode_txt',\n",
              " 'claim2',\n",
              " 'claimmode2',\n",
              " 'claimmode2_txt',\n",
              " 'claim3',\n",
              " 'claimmode3',\n",
              " 'claimmode3_txt',\n",
              " 'compclaim',\n",
              " 'weaptype1',\n",
              " 'weaptype1_txt',\n",
              " 'weapsubtype1',\n",
              " 'weapsubtype1_txt',\n",
              " 'weaptype2',\n",
              " 'weaptype2_txt',\n",
              " 'weapsubtype2',\n",
              " 'weapsubtype2_txt',\n",
              " 'weaptype3',\n",
              " 'weaptype3_txt',\n",
              " 'weapsubtype3',\n",
              " 'weapsubtype3_txt',\n",
              " 'weaptype4',\n",
              " 'weaptype4_txt',\n",
              " 'weapsubtype4',\n",
              " 'weapsubtype4_txt',\n",
              " 'weapdetail',\n",
              " 'nkill',\n",
              " 'nkillus',\n",
              " 'nkillter',\n",
              " 'nwound',\n",
              " 'nwoundus',\n",
              " 'nwoundte',\n",
              " 'property',\n",
              " 'propextent',\n",
              " 'propextent_txt',\n",
              " 'propvalue',\n",
              " 'propcomment',\n",
              " 'ishostkid',\n",
              " 'nhostkid',\n",
              " 'nhostkidus',\n",
              " 'nhours',\n",
              " 'ndays',\n",
              " 'divert',\n",
              " 'kidhijcountry',\n",
              " 'ransom',\n",
              " 'ransomamt',\n",
              " 'ransomamtus',\n",
              " 'ransompaid',\n",
              " 'ransompaidus',\n",
              " 'ransomnote',\n",
              " 'hostkidoutcome',\n",
              " 'hostkidoutcome_txt',\n",
              " 'nreleased',\n",
              " 'addnotes',\n",
              " 'scite1',\n",
              " 'scite2',\n",
              " 'scite3',\n",
              " 'dbsource',\n",
              " 'INT_LOG',\n",
              " 'INT_IDEO',\n",
              " 'INT_MISC',\n",
              " 'INT_ANY',\n",
              " 'related']"
            ]
          },
          "metadata": {},
          "execution_count": 12
        }
      ]
    },
    {
      "cell_type": "code",
      "source": [
        "data.rename(columns={'iyear':'Year','imonth':'Month','iday':\"Day\",'gname':'Group','country_txt':'Country','region_txt':'Region','provstate':'State','city':'City','latitude':'Latitude',\n",
        "    'longitude':'Longitude','summary':'Summary','attacktype1_txt':'attackType','targtype1_txt':'targetType','weaptype1_txt':'Weapon','nkill':'Kill',\n",
        "     'nwound':'Wound'},inplace=True)\n"
      ],
      "metadata": {
        "id": "aeUtb7eW31uE"
      },
      "execution_count": 13,
      "outputs": []
    },
    {
      "cell_type": "code",
      "source": [
        "data_1 = data[['Year','Month','Day','Country','State','Region','City','Latitude','Longitude',\"attackType\",'Kill',\n",
        "               'Wound','target1','Summary','Group','targetType','Weapon','motive']]\n",
        "data_1.info()"
      ],
      "metadata": {
        "colab": {
          "base_uri": "https://localhost:8080/"
        },
        "id": "B6OgFqo83y-T",
        "outputId": "1f4eca6f-08e3-4909-a3aa-9913b2e01c97"
      },
      "execution_count": 14,
      "outputs": [
        {
          "output_type": "stream",
          "name": "stdout",
          "text": [
            "<class 'pandas.core.frame.DataFrame'>\n",
            "RangeIndex: 29975 entries, 0 to 29974\n",
            "Data columns (total 18 columns):\n",
            " #   Column      Non-Null Count  Dtype  \n",
            "---  ------      --------------  -----  \n",
            " 0   Year        29974 non-null  float64\n",
            " 1   Month       29974 non-null  float64\n",
            " 2   Day         29974 non-null  float64\n",
            " 3   Country     29974 non-null  object \n",
            " 4   State       29855 non-null  object \n",
            " 5   Region      29974 non-null  object \n",
            " 6   City        29974 non-null  object \n",
            " 7   Latitude    28397 non-null  float64\n",
            " 8   Longitude   28397 non-null  float64\n",
            " 9   attackType  29974 non-null  object \n",
            " 10  Kill        24447 non-null  float64\n",
            " 11  Wound       22698 non-null  float64\n",
            " 12  target1     29616 non-null  object \n",
            " 13  Summary     1092 non-null   object \n",
            " 14  Group       29974 non-null  object \n",
            " 15  targetType  29974 non-null  object \n",
            " 16  Weapon      29974 non-null  object \n",
            " 17  motive      821 non-null    object \n",
            "dtypes: float64(7), object(11)\n",
            "memory usage: 4.1+ MB\n"
          ]
        }
      ]
    },
    {
      "cell_type": "code",
      "source": [
        "data_1.isnull().sum()"
      ],
      "metadata": {
        "colab": {
          "base_uri": "https://localhost:8080/"
        },
        "id": "e1oLtk-o44Ae",
        "outputId": "e38c5d9c-ab1f-4f72-a736-f3258a597d79"
      },
      "execution_count": 15,
      "outputs": [
        {
          "output_type": "execute_result",
          "data": {
            "text/plain": [
              "Year              1\n",
              "Month             1\n",
              "Day               1\n",
              "Country           1\n",
              "State           120\n",
              "Region            1\n",
              "City              1\n",
              "Latitude       1578\n",
              "Longitude      1578\n",
              "attackType        1\n",
              "Kill           5528\n",
              "Wound          7277\n",
              "target1         359\n",
              "Summary       28883\n",
              "Group             1\n",
              "targetType        1\n",
              "Weapon            1\n",
              "motive        29154\n",
              "dtype: int64"
            ]
          },
          "metadata": {},
          "execution_count": 15
        }
      ]
    },
    {
      "cell_type": "code",
      "source": [
        "data_1.shape"
      ],
      "metadata": {
        "colab": {
          "base_uri": "https://localhost:8080/"
        },
        "id": "n4J7HrWs5NC2",
        "outputId": "4775e93a-4980-4044-f673-fbfdaa5f7f08"
      },
      "execution_count": 17,
      "outputs": [
        {
          "output_type": "execute_result",
          "data": {
            "text/plain": [
              "(29975, 18)"
            ]
          },
          "metadata": {},
          "execution_count": 17
        }
      ]
    },
    {
      "cell_type": "code",
      "source": [
        "data_2 = data_1['City'].value_counts().to_frame().drop('Unknown')\n",
        "data_2 = data_2.sort_values('City',axis=0,ascending=False).iloc[0:10]"
      ],
      "metadata": {
        "id": "BUmGfPoO5oAk"
      },
      "execution_count": 22,
      "outputs": []
    },
    {
      "cell_type": "code",
      "source": [
        "data_2.plot(kind='bar',figsize=(20,10),color='red')\n",
        "plt.xticks(rotation = 50)\n",
        "plt.xlabel(\"Cities\",fontsize=15)\n",
        "plt.ylabel(\"No. of Attacks\",fontsize=15)\n",
        "plt.title(\"10 severely affected cities\",fontsize=20)\n",
        "plt.show()"
      ],
      "metadata": {
        "colab": {
          "base_uri": "https://localhost:8080/",
          "height": 638
        },
        "id": "SfsEkvTQ49rO",
        "outputId": "1371e888-4b92-4305-f1d0-8254af3c6f9c"
      },
      "execution_count": 27,
      "outputs": [
        {
          "output_type": "display_data",
          "data": {
            "text/plain": [
              "<Figure size 1440x720 with 1 Axes>"
            ],
            "image/png": "[encoded data removed]"
          },
          "metadata": {
            "needs_background": "light"
          }
        }
      ]
    },
    {
      "cell_type": "markdown",
      "source": [
        "## Conclusion - These are the top 10 cities with most attacks"
      ],
      "metadata": {
        "id": "85fcglRE7Q9l"
      }
    },
    {
      "cell_type": "code",
      "source": [
        "data_1.columns"
      ],
      "metadata": {
        "colab": {
          "base_uri": "https://localhost:8080/"
        },
        "id": "bqcMnahS7s83",
        "outputId": "2e934cb8-b963-4f29-e12c-60f6b3b2096c"
      },
      "execution_count": 28,
      "outputs": [
        {
          "output_type": "execute_result",
          "data": {
            "text/plain": [
              "Index(['Year', 'Month', 'Day', 'Country', 'State', 'Region', 'City',\n",
              "       'Latitude', 'Longitude', 'attackType', 'Kill', 'Wound', 'target1',\n",
              "       'Summary', 'Group', 'targetType', 'Weapon', 'motive'],\n",
              "      dtype='object')"
            ]
          },
          "metadata": {},
          "execution_count": 28
        }
      ]
    },
    {
      "cell_type": "code",
      "source": [
        "data_3 = data_1['Region'].value_counts().to_frame()\n",
        "data_3 = data_3.sort_values('Region',axis=0,ascending=False).iloc[0:10]"
      ],
      "metadata": {
        "id": "r24xkL_O5HH5"
      },
      "execution_count": 30,
      "outputs": []
    },
    {
      "cell_type": "code",
      "source": [
        "data_3.plot(kind='bar',figsize=(20,10),color='blue')\n",
        "plt.xticks(rotation = 50)\n",
        "plt.xlabel(\"Regions\",fontsize=15)\n",
        "plt.ylabel(\"No. of Attacks\",fontsize=15)\n",
        "plt.title(\"10 severely affected Regions\",fontsize=20)\n",
        "plt.show()"
      ],
      "metadata": {
        "colab": {
          "base_uri": "https://localhost:8080/",
          "height": 760
        },
        "id": "1ADx8Qqw75sk",
        "outputId": "93b06369-dfda-40db-824d-f00f6aa7abcb"
      },
      "execution_count": 33,
      "outputs": [
        {
          "output_type": "display_data",
          "data": {
            "text/plain": [
              "<Figure size 1440x720 with 1 Axes>"
            ],
            "image/png": "[encoded data removed]"
          },
          "metadata": {
            "needs_background": "light"
          }
        }
      ]
    },
    {
      "cell_type": "markdown",
      "source": [
        "Conclusion - These are the most attacked regions"
      ],
      "metadata": {
        "id": "GYa8HbVy8Oan"
      }
    },
    {
      "cell_type": "code",
      "source": [
        "data_1.columns"
      ],
      "metadata": {
        "colab": {
          "base_uri": "https://localhost:8080/"
        },
        "id": "SZsKTFxA8uqH",
        "outputId": "7054edfe-c946-4661-f05d-6d627b917352"
      },
      "execution_count": 35,
      "outputs": [
        {
          "output_type": "execute_result",
          "data": {
            "text/plain": [
              "Index(['Year', 'Month', 'Day', 'Country', 'State', 'Region', 'City',\n",
              "       'Latitude', 'Longitude', 'attackType', 'Kill', 'Wound', 'target1',\n",
              "       'Summary', 'Group', 'targetType', 'Weapon', 'motive'],\n",
              "      dtype='object')"
            ]
          },
          "metadata": {},
          "execution_count": 35
        }
      ]
    },
    {
      "cell_type": "code",
      "source": [
        "plt.subplots(figsize=(15,10))\n",
        "sns.barplot(data_1['Country'].value_counts()[:10].index,data_1['Country'].value_counts()[:10] , palette='hls')\n",
        "plt.title('Most affected Countries')\n",
        "plt.xlabel('Countries')\n",
        "plt.ylabel('No. of attacks')\n",
        "plt.xticks(rotation = 50)\n",
        "plt.show()"
      ],
      "metadata": {
        "colab": {
          "base_uri": "https://localhost:8080/",
          "height": 678
        },
        "id": "R1emmAso8q0b",
        "outputId": "7cbf89dd-1c7c-4f49-c376-ee0cd872cb36"
      },
      "execution_count": 44,
      "outputs": [
        {
          "output_type": "display_data",
          "data": {
            "text/plain": [
              "<Figure size 1080x720 with 1 Axes>"
            ],
            "image/png": "[encoded data removed]"
          },
          "metadata": {
            "needs_background": "light"
          }
        }
      ]
    },
    {
      "cell_type": "markdown",
      "source": [
        "Conclusion - These are the most attacked countries"
      ],
      "metadata": {
        "id": "84jjMlyP-vHS"
      }
    },
    {
      "cell_type": "code",
      "source": [
        "data_1.columns"
      ],
      "metadata": {
        "colab": {
          "base_uri": "https://localhost:8080/"
        },
        "id": "7-6QEO9w_dJA",
        "outputId": "f8f075e9-dced-4025-b4ee-a56a1c59edb9"
      },
      "execution_count": 45,
      "outputs": [
        {
          "output_type": "execute_result",
          "data": {
            "text/plain": [
              "Index(['Year', 'Month', 'Day', 'Country', 'State', 'Region', 'City',\n",
              "       'Latitude', 'Longitude', 'attackType', 'Kill', 'Wound', 'target1',\n",
              "       'Summary', 'Group', 'targetType', 'Weapon', 'motive'],\n",
              "      dtype='object')"
            ]
          },
          "metadata": {},
          "execution_count": 45
        }
      ]
    },
    {
      "cell_type": "code",
      "source": [
        "data_4 = data_1[['Group','Kill']].groupby(['Group'],axis=0).sum().drop('Unknown')\n",
        "data_4 = data_4.sort_values('Kill',ascending=False).head(10)"
      ],
      "metadata": {
        "id": "n0ZOrBwR8_3Y"
      },
      "execution_count": 47,
      "outputs": []
    },
    {
      "cell_type": "code",
      "source": [
        "data_4"
      ],
      "metadata": {
        "colab": {
          "base_uri": "https://localhost:8080/",
          "height": 394
        },
        "id": "zZc2bjw-_goY",
        "outputId": "ebbf7cf8-414f-493a-9741-1f6c1b266b13"
      },
      "execution_count": 48,
      "outputs": [
        {
          "output_type": "execute_result",
          "data": {
            "text/plain": [
              "                                                    Kill\n",
              "Group                                                   \n",
              "Nicaraguan Democratic Force (FDN)                 6428.0\n",
              "Farabundo Marti National Liberation Front (FMLN)  6280.0\n",
              "Shining Path (SL)                                 5584.0\n",
              "Democratic Revolutionary Alliance (ARDE)          1803.0\n",
              "Irish Republican Army (IRA)                       1401.0\n",
              "Revolutionary Armed Forces of Colombia (FARC)     1285.0\n",
              "M-19 (Movement of April 19)                       1260.0\n",
              "Tamils                                             976.0\n",
              "New People's Army (NPA)                            901.0\n",
              "Sikh Extremists                                    609.0"
            ],
            "text/html": [
              "\n",
              "  <div id=\"df-8e3c4efa-e15e-4468-a7cb-919e07605d57\">\n",
              "    <div class=\"colab-df-container\">\n",
              "      <div>\n",
              "<style scoped>\n",
              "    .dataframe tbody tr th:only-of-type {\n",
              "        vertical-align: middle;\n",
              "    }\n",
              "\n",
              "    .dataframe tbody tr th {\n",
              "        vertical-align: top;\n",
              "    }\n",
              "\n",
              "    .dataframe thead th {\n",
              "        text-align: right;\n",
              "    }\n",
              "</style>\n",
              "<table border=\"1\" class=\"dataframe\">\n",
              "  <thead>\n",
              "    <tr style=\"text-align: right;\">\n",
              "      <th></th>\n",
              "      <th>Kill</th>\n",
              "    </tr>\n",
              "    <tr>\n",
              "      <th>Group</th>\n",
              "      <th></th>\n",
              "    </tr>\n",
              "  </thead>\n",
              "  <tbody>\n",
              "    <tr>\n",
              "      <th>Nicaraguan Democratic Force (FDN)</th>\n",
              "      <td>6428.0</td>\n",
              "    </tr>\n",
              "    <tr>\n",
              "      <th>Farabundo Marti National Liberation Front (FMLN)</th>\n",
              "      <td>6280.0</td>\n",
              "    </tr>\n",
              "    <tr>\n",
              "      <th>Shining Path (SL)</th>\n",
              "      <td>5584.0</td>\n",
              "    </tr>\n",
              "    <tr>\n",
              "      <th>Democratic Revolutionary Alliance (ARDE)</th>\n",
              "      <td>1803.0</td>\n",
              "    </tr>\n",
              "    <tr>\n",
              "      <th>Irish Republican Army (IRA)</th>\n",
              "      <td>1401.0</td>\n",
              "    </tr>\n",
              "    <tr>\n",
              "      <th>Revolutionary Armed Forces of Colombia (FARC)</th>\n",
              "      <td>1285.0</td>\n",
              "    </tr>\n",
              "    <tr>\n",
              "      <th>M-19 (Movement of April 19)</th>\n",
              "      <td>1260.0</td>\n",
              "    </tr>\n",
              "    <tr>\n",
              "      <th>Tamils</th>\n",
              "      <td>976.0</td>\n",
              "    </tr>\n",
              "    <tr>\n",
              "      <th>New People's Army (NPA)</th>\n",
              "      <td>901.0</td>\n",
              "    </tr>\n",
              "    <tr>\n",
              "      <th>Sikh Extremists</th>\n",
              "      <td>609.0</td>\n",
              "    </tr>\n",
              "  </tbody>\n",
              "</table>\n",
              "</div>\n",
              "      <button class=\"colab-df-convert\" onclick=\"convertToInteractive('df-8e3c4efa-e15e-4468-a7cb-919e07605d57')\"\n",
              "              title=\"Convert this dataframe to an interactive table.\"\n",
              "              style=\"display:none;\">\n",
              "        \n",
              "  <svg xmlns=\"http://www.w3.org/2000/svg\" height=\"24px\"viewBox=\"0 0 24 24\"\n",
              "       width=\"24px\">\n",
              "    <path d=\"M0 0h24v24H0V0z\" fill=\"none\"/>\n",
              "    <path d=\"M18.56 5.44l.94 2.06.94-2.06 2.06-.94-2.06-.94-.94-2.06-.94 2.06-2.06.94zm-11 1L8.5 8.5l.94-2.06 2.06-.94-2.06-.94L8.5 2.5l-.94 2.06-2.06.94zm10 10l.94 2.06.94-2.06 2.06-.94-2.06-.94-.94-2.06-.94 2.06-2.06.94z\"/><path d=\"M17.41 7.96l-1.37-1.37c-.4-.4-.92-.59-1.43-.59-.52 0-1.04.2-1.43.59L10.3 9.45l-7.72 7.72c-.78.78-.78 2.05 0 2.83L4 21.41c.39.39.9.59 1.41.59.51 0 1.02-.2 1.41-.59l7.78-7.78 2.81-2.81c.8-.78.8-2.07 0-2.86zM5.41 20L4 18.59l7.72-7.72 1.47 1.35L5.41 20z\"/>\n",
              "  </svg>\n",
              "      </button>\n",
              "      \n",
              "  <style>\n",
              "    .colab-df-container {\n",
              "      display:flex;\n",
              "      flex-wrap:wrap;\n",
              "      gap: 12px;\n",
              "    }\n",
              "\n",
              "    .colab-df-convert {\n",
              "      background-color: #E8F0FE;\n",
              "      border: none;\n",
              "      border-radius: 50%;\n",
              "      cursor: pointer;\n",
              "      display: none;\n",
              "      fill: #1967D2;\n",
              "      height: 32px;\n",
              "      padding: 0 0 0 0;\n",
              "      width: 32px;\n",
              "    }\n",
              "\n",
              "    .colab-df-convert:hover {\n",
              "      background-color: #E2EBFA;\n",
              "      box-shadow: 0px 1px 2px rgba(60, 64, 67, 0.3), 0px 1px 3px 1px rgba(60, 64, 67, 0.15);\n",
              "      fill: #174EA6;\n",
              "    }\n",
              "\n",
              "    [theme=dark] .colab-df-convert {\n",
              "      background-color: #3B4455;\n",
              "      fill: #D2E3FC;\n",
              "    }\n",
              "\n",
              "    [theme=dark] .colab-df-convert:hover {\n",
              "      background-color: #434B5C;\n",
              "      box-shadow: 0px 1px 3px 1px rgba(0, 0, 0, 0.15);\n",
              "      filter: drop-shadow(0px 1px 2px rgba(0, 0, 0, 0.3));\n",
              "      fill: #FFFFFF;\n",
              "    }\n",
              "  </style>\n",
              "\n",
              "      <script>\n",
              "        const buttonEl =\n",
              "          document.querySelector('#df-8e3c4efa-e15e-4468-a7cb-919e07605d57 button.colab-df-convert');\n",
              "        buttonEl.style.display =\n",
              "          google.colab.kernel.accessAllowed ? 'block' : 'none';\n",
              "\n",
              "        async function convertToInteractive(key) {\n",
              "          const element = document.querySelector('#df-8e3c4efa-e15e-4468-a7cb-919e07605d57');\n",
              "          const dataTable =\n",
              "            await google.colab.kernel.invokeFunction('convertToInteractive',\n",
              "                                                     [key], {});\n",
              "          if (!dataTable) return;\n",
              "\n",
              "          const docLinkHtml = 'Like what you see? Visit the ' +\n",
              "            '<a target=\"_blank\" href=https://colab.research.google.com/notebooks/data_table.ipynb>data table notebook</a>'\n",
              "            + ' to learn more about interactive tables.';\n",
              "          element.innerHTML = '';\n",
              "          dataTable['output_type'] = 'display_data';\n",
              "          await google.colab.output.renderOutput(dataTable, element);\n",
              "          const docLink = document.createElement('div');\n",
              "          docLink.innerHTML = docLinkHtml;\n",
              "          element.appendChild(docLink);\n",
              "        }\n",
              "      </script>\n",
              "    </div>\n",
              "  </div>\n",
              "  "
            ]
          },
          "metadata": {},
          "execution_count": 48
        }
      ]
    },
    {
      "cell_type": "code",
      "source": [
        "data_4.plot(kind='bar',figsize=(20,10),color='red')\n",
        "plt.xticks(rotation = 50)\n",
        "plt.xlabel(\"Terrorist Groups\",fontsize=15)\n",
        "plt.ylabel(\"No. of Attacks\",fontsize=15)\n",
        "plt.title(\"top 10 terrorist groups\",fontsize=20)\n",
        "plt.show()"
      ],
      "metadata": {
        "colab": {
          "base_uri": "https://localhost:8080/",
          "height": 835
        },
        "id": "HYTxet1b_tT6",
        "outputId": "071e0d90-a228-4fec-f92f-97c7b07c9816"
      },
      "execution_count": 49,
      "outputs": [
        {
          "output_type": "display_data",
          "data": {
            "text/plain": [
              "<Figure size 1440x720 with 1 Axes>"
            ],
            "image/png": "[encoded data removed]"
          },
          "metadata": {
            "needs_background": "light"
          }
        }
      ]
    },
    {
      "cell_type": "markdown",
      "source": [
        "Conclusion - These are the most dangerous terrorist groups"
      ],
      "metadata": {
        "id": "zRMwPv34AfPS"
      }
    },
    {
      "cell_type": "code",
      "source": [
        "data_1.columns"
      ],
      "metadata": {
        "colab": {
          "base_uri": "https://localhost:8080/"
        },
        "id": "cXXNldX8Ask0",
        "outputId": "3904462b-f241-438a-db51-e81b76399447"
      },
      "execution_count": 50,
      "outputs": [
        {
          "output_type": "execute_result",
          "data": {
            "text/plain": [
              "Index(['Year', 'Month', 'Day', 'Country', 'State', 'Region', 'City',\n",
              "       'Latitude', 'Longitude', 'attackType', 'Kill', 'Wound', 'target1',\n",
              "       'Summary', 'Group', 'targetType', 'Weapon', 'motive'],\n",
              "      dtype='object')"
            ]
          },
          "metadata": {},
          "execution_count": 50
        }
      ]
    },
    {
      "cell_type": "code",
      "source": [
        "plt.subplots(figsize=(20,10))\n",
        "sns.countplot(data_1[\"targetType\"],order=data_1['targetType'].value_counts().index,palette=\"hls\");\n",
        "plt.xticks(rotation=90)\n",
        "plt.xlabel(\"Target type\",fontsize=15)\n",
        "plt.ylabel(\"Number of attacks\",fontsize=15)\n",
        "plt.title(\"Most attacked target types\",fontsize=20)\n",
        "plt.show()"
      ],
      "metadata": {
        "colab": {
          "base_uri": "https://localhost:8080/",
          "height": 711
        },
        "id": "f20dimGUAGQQ",
        "outputId": "f5f91319-3c5f-4238-cd7b-cc58235ed16c"
      },
      "execution_count": 51,
      "outputs": [
        {
          "output_type": "display_data",
          "data": {
            "text/plain": [
              "<Figure size 1440x720 with 1 Axes>"
            ],
            "image/png": "[encoded data removed]"
          },
          "metadata": {
            "needs_background": "light"
          }
        }
      ]
    },
    {
      "cell_type": "markdown",
      "source": [
        "Conclusion - These are the most targeted groups."
      ],
      "metadata": {
        "id": "FP_tBvRUA5PT"
      }
    },
    {
      "cell_type": "code",
      "source": [
        "data_5 = data_1['attackType'].value_counts()"
      ],
      "metadata": {
        "id": "p9ghqm3EBHfv"
      },
      "execution_count": 52,
      "outputs": []
    },
    {
      "cell_type": "code",
      "source": [
        "data_5"
      ],
      "metadata": {
        "colab": {
          "base_uri": "https://localhost:8080/"
        },
        "id": "1-iR9_ABBP7d",
        "outputId": "81b8bacc-9e75-46cd-f469-36bfae491b0c"
      },
      "execution_count": 53,
      "outputs": [
        {
          "output_type": "execute_result",
          "data": {
            "text/plain": [
              "Bombing/Explosion                      13597\n",
              "Armed Assault                           6303\n",
              "Assassination                           4893\n",
              "Facility/Infrastructure Attack          2151\n",
              "Hostage Taking (Kidnapping)             1319\n",
              "Unknown                                 1067\n",
              "Hostage Taking (Barricade Incident)      442\n",
              "Hijacking                                149\n",
              "Unarmed Assault                           53\n",
              "Name: attackType, dtype: int64"
            ]
          },
          "metadata": {},
          "execution_count": 53
        }
      ]
    },
    {
      "cell_type": "code",
      "source": [
        "data_5.plot(kind='bar',figsize=(20,10),color='red')\n",
        "plt.xticks(rotation = 50)\n",
        "plt.xlabel(\"Attack Types\",fontsize=15)\n",
        "plt.ylabel(\"No. of attacks\",fontsize=15)\n",
        "plt.title(\"Most used attack types\",fontsize=20)\n",
        "plt.show()"
      ],
      "metadata": {
        "colab": {
          "base_uri": "https://localhost:8080/",
          "height": 784
        },
        "id": "BcVBYFOwA_pV",
        "outputId": "78bfba94-29c5-47c3-926d-365daff6f347"
      },
      "execution_count": 54,
      "outputs": [
        {
          "output_type": "display_data",
          "data": {
            "text/plain": [
              "<Figure size 1440x720 with 1 Axes>"
            ],
            "image/png": "[encoded data removed]"
          },
          "metadata": {
            "needs_background": "light"
          }
        }
      ]
    },
    {
      "cell_type": "markdown",
      "source": [
        "Conclusion - These are the most preferred attack types "
      ],
      "metadata": {
        "id": "ACqJNvOuBfBm"
      }
    }
  ]
}